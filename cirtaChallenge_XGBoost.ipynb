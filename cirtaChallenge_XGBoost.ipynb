{
  "nbformat": 4,
  "nbformat_minor": 0,
  "metadata": {
    "kernelspec": {
      "display_name": "Python 3",
      "language": "python",
      "name": "python3"
    },
    "language_info": {
      "codemirror_mode": {
        "name": "ipython",
        "version": 3
      },
      "file_extension": ".py",
      "mimetype": "text/x-python",
      "name": "python",
      "nbconvert_exporter": "python",
      "pygments_lexer": "ipython3",
      "version": "3.7.3"
    },
    "colab": {
      "name": "cirtaChallenge_XGBoost.ipynb",
      "provenance": [],
      "collapsed_sections": [],
      "include_colab_link": true
    }
  },
  "cells": [
    {
      "cell_type": "markdown",
      "metadata": {
        "id": "view-in-github",
        "colab_type": "text"
      },
      "source": [
        "<a href=\"https://colab.research.google.com/github/anindabitm/TIC-HEAP-Cirta-Particle-Classification-Challenge/blob/master/cirtaChallenge_XGBoost.ipynb\" target=\"_parent\"><img src=\"https://colab.research.google.com/assets/colab-badge.svg\" alt=\"Open In Colab\"/></a>"
      ]
    },
    {
      "cell_type": "markdown",
      "metadata": {
        "id": "bqcqcdHJIcxS",
        "colab_type": "text"
      },
      "source": [
        "# Particle type classification"
      ]
    },
    {
      "cell_type": "markdown",
      "metadata": {
        "id": "0zcYwGoWIcxa",
        "colab_type": "text"
      },
      "source": [
        "Welcome! \n",
        "\n",
        "Using XGBoost"
      ]
    },
    {
      "cell_type": "code",
      "metadata": {
        "id": "9qUP8NwUIcxe",
        "colab_type": "code",
        "colab": {}
      },
      "source": [
        "#Import libraries to load and process data\n",
        "import numpy as np\n",
        "import pickle\n",
        "import os\n",
        "import glob\n",
        "import pandas as pd\n",
        "from google.colab import drive"
      ],
      "execution_count": 0,
      "outputs": []
    },
    {
      "cell_type": "code",
      "metadata": {
        "id": "YPg7sItzNErM",
        "colab_type": "code",
        "outputId": "77c3ca9f-53e0-4438-bed5-6f094d784446",
        "colab": {
          "base_uri": "https://localhost:8080/",
          "height": 128
        }
      },
      "source": [
        "drive.mount('/content/drive')"
      ],
      "execution_count": 0,
      "outputs": [
        {
          "output_type": "stream",
          "text": [
            "Go to this URL in a browser: https://accounts.google.com/o/oauth2/auth?client_id=947318989803-6bn6qk8qdgf4n4g3pfee6491hc0brc4i.apps.googleusercontent.com&redirect_uri=urn%3aietf%3awg%3aoauth%3a2.0%3aoob&response_type=code&scope=email%20https%3a%2f%2fwww.googleapis.com%2fauth%2fdocs.test%20https%3a%2f%2fwww.googleapis.com%2fauth%2fdrive%20https%3a%2f%2fwww.googleapis.com%2fauth%2fdrive.photos.readonly%20https%3a%2f%2fwww.googleapis.com%2fauth%2fpeopleapi.readonly\n",
            "\n",
            "Enter your authorization code:\n",
            "··········\n",
            "Mounted at /content/drive\n"
          ],
          "name": "stdout"
        }
      ]
    },
    {
      "cell_type": "code",
      "metadata": {
        "id": "N9qHgvmmOhUI",
        "colab_type": "code",
        "outputId": "5b81c2ac-ead0-4eb7-edb3-531f2ca8f804",
        "colab": {
          "base_uri": "https://localhost:8080/",
          "height": 55
        }
      },
      "source": [
        "print(os. listdir('/content/drive/My Drive/Cirta_challenge/train'))"
      ],
      "execution_count": 0,
      "outputs": [
        {
          "output_type": "stream",
          "text": [
            "['event3.pkl', 'event4.pkl', 'event1.pkl', 'event2.pkl', 'event9.pkl', 'event8.pkl', 'event7.pkl', 'event6.pkl', 'event5.pkl', 'event20.pkl', 'event19.pkl', 'event18.pkl', 'event17.pkl', 'event16.pkl', 'event15.pkl', 'event14.pkl', 'event13.pkl', 'event12.pkl', 'event11.pkl', 'event10.pkl', 'event343.pkl', 'event344.pkl', 'event345.pkl', 'event346.pkl', 'event347.pkl', 'event348.pkl', 'event349.pkl', 'event350.pkl', 'event341.pkl', 'event342.pkl', 'event55.pkl', 'event56.pkl', 'event57.pkl', 'event58.pkl', 'event59.pkl', 'event60.pkl', 'event50.pkl', 'event51.pkl', 'event52.pkl', 'event53.pkl', 'event54.pkl']\n"
          ],
          "name": "stdout"
        }
      ]
    },
    {
      "cell_type": "code",
      "metadata": {
        "id": "XkOpwLnJIcxs",
        "colab_type": "code",
        "colab": {}
      },
      "source": [
        "# replace by your own file path\n",
        "path='/content/drive/My Drive/Cirta_challenge/train/'\n",
        "files_list=os.listdir('/content/drive/My Drive/Cirta_challenge/train')\n",
        "data=np.array([])\n",
        "target=np.array([])\n",
        "for files in files_list:\n",
        "  pkl_file = open(path+files, 'rb')\n",
        "  event=pickle.load(pkl_file)\n",
        "  data=np.concatenate([data,event[0]],0)\n",
        "  target=np.concatenate([target,event[1]],0)"
      ],
      "execution_count": 0,
      "outputs": []
    },
    {
      "cell_type": "code",
      "metadata": {
        "id": "Rwip2wa_mSGk",
        "colab_type": "code",
        "outputId": "8cf5f5a0-2956-445b-b98c-62d07cb59b8f",
        "colab": {
          "base_uri": "https://localhost:8080/",
          "height": 54
        }
      },
      "source": [
        "print(data.shape)\n",
        "print(target.shape)"
      ],
      "execution_count": 0,
      "outputs": [
        {
          "output_type": "stream",
          "text": [
            "(130061,)\n",
            "(130061,)\n"
          ],
          "name": "stdout"
        }
      ]
    },
    {
      "cell_type": "code",
      "metadata": {
        "id": "PgIfVfVnIcx1",
        "colab_type": "code",
        "colab": {}
      },
      "source": [
        "# get the data and target\n",
        "target=target.astype('int')"
      ],
      "execution_count": 0,
      "outputs": []
    },
    {
      "cell_type": "code",
      "metadata": {
        "id": "8tXLROiNIcx8",
        "colab_type": "code",
        "colab": {}
      },
      "source": [
        "# code to particle name dictionary -- more here : \n",
        "dic_types={11: \"electron\", 13 : \"muon\", 211:\"pion\", 321:\"kaon\",2212 : \"proton\"}"
      ],
      "execution_count": 0,
      "outputs": []
    },
    {
      "cell_type": "markdown",
      "metadata": {
        "id": "kdOKFlbEIcyI",
        "colab_type": "text"
      },
      "source": [
        "## Example  of a particle"
      ]
    },
    {
      "cell_type": "code",
      "metadata": {
        "id": "fVn854QNIcyK",
        "colab_type": "code",
        "outputId": "5d286893-e2e1-428c-8f3e-fcea5bbfd8b7",
        "colab": {
          "base_uri": "https://localhost:8080/",
          "height": 281
        }
      },
      "source": [
        "import matplotlib.pyplot as plt\n",
        "plt.title(dic_types[target[100]])\n",
        "plt.imshow(data[100])\n",
        "plt.show()"
      ],
      "execution_count": 0,
      "outputs": [
        {
          "output_type": "display_data",
          "data": {
            "image/png": "[encoded data removed]",
            "text/plain": [
              "<Figure size 432x288 with 1 Axes>"
            ]
          },
          "metadata": {
            "tags": []
          }
        }
      ]
    },
    {
      "cell_type": "markdown",
      "metadata": {
        "id": "urRJKBGsIcya",
        "colab_type": "text"
      },
      "source": [
        "## Distribution of particles in an event"
      ]
    },
    {
      "cell_type": "code",
      "metadata": {
        "id": "f8cCLVw0Icyd",
        "colab_type": "code",
        "outputId": "b314291c-5c5e-431e-a156-3e057711f782",
        "colab": {
          "base_uri": "https://localhost:8080/",
          "height": 265
        }
      },
      "source": [
        "\n",
        "from collections import Counter\n",
        "\n",
        "plt.bar(range(len(dic_types)),list(Counter(target).values()))\n",
        "plt.xticks(range(len(dic_types)), [dic_types[i] for i in list(Counter(target).keys())])\n",
        "plt.show()"
      ],
      "execution_count": 0,
      "outputs": [
        {
          "output_type": "display_data",
          "data": {
            "image/png": "[encoded data removed]",
            "text/plain": [
              "<Figure size 432x288 with 1 Axes>"
            ]
          },
          "metadata": {
            "tags": []
          }
        }
      ]
    },
    {
      "cell_type": "markdown",
      "metadata": {
        "id": "4fEyjBo7Icyp",
        "colab_type": "text"
      },
      "source": [
        "Let us try to predict the particle type with an SVM model from the famous sklearn library. First we split the data into training and test sets."
      ]
    },
    {
      "cell_type": "code",
      "metadata": {
        "id": "LCWVu2NFIcys",
        "colab_type": "code",
        "colab": {}
      },
      "source": [
        "from sklearn.model_selection import train_test_split\n",
        "from sklearn.metrics import accuracy_score\n",
        "# we transform the 10x10 images into arrays of 100. You can play with that :) \n",
        "X_train, X_test, y_train, y_test = train_test_split(\n",
        "    [np.concatenate((i)) for i in data], target, test_size=0.20, random_state=42)"
      ],
      "execution_count": 0,
      "outputs": []
    },
    {
      "cell_type": "code",
      "metadata": {
        "id": "3iPADZ7hIcyz",
        "colab_type": "code",
        "outputId": "1f9267e8-6609-476b-d073-99afc22458cb",
        "colab": {
          "base_uri": "https://localhost:8080/",
          "height": 35
        }
      },
      "source": [
        "#new shape of our data\n",
        "np.array(X_train).shape, np.array(y_train).shape"
      ],
      "execution_count": 0,
      "outputs": [
        {
          "output_type": "execute_result",
          "data": {
            "text/plain": [
              "((104048, 100), (104048,))"
            ]
          },
          "metadata": {
            "tags": []
          },
          "execution_count": 11
        }
      ]
    },
    {
      "cell_type": "code",
      "metadata": {
        "id": "_tV1dv9AIcy6",
        "colab_type": "code",
        "outputId": "46a1d0e9-bc4b-41d8-b35f-7a0545558a74",
        "colab": {
          "base_uri": "https://localhost:8080/",
          "height": 35
        }
      },
      "source": [
        "# particle distribution in our training\n",
        "Counter(y_train)"
      ],
      "execution_count": 0,
      "outputs": [
        {
          "output_type": "execute_result",
          "data": {
            "text/plain": [
              "Counter({11: 270, 13: 118, 211: 80183, 321: 13466, 2212: 10011})"
            ]
          },
          "metadata": {
            "tags": []
          },
          "execution_count": 12
        }
      ]
    },
    {
      "cell_type": "code",
      "metadata": {
        "id": "RzdDF77LLpul",
        "colab_type": "code",
        "outputId": "4042af56-9af3-45f0-bf6a-4cb906711683",
        "colab": {
          "base_uri": "https://localhost:8080/",
          "height": 503
        }
      },
      "source": [
        "from imblearn.over_sampling import SMOTE\n",
        "sm = SMOTE(random_state=2)\n",
        "X_train_res, y_train_res = sm.fit_sample(X_train, y_train.ravel())\n",
        "plt.bar(range(len(dic_types)),list(Counter(y_train_res).values()))\n",
        "plt.xticks(range(len(dic_types)), [dic_types[i] for i in list(Counter(target).keys())])\n",
        "plt.show()"
      ],
      "execution_count": 0,
      "outputs": [
        {
          "output_type": "stream",
          "text": [
            "/usr/local/lib/python3.6/dist-packages/sklearn/externals/six.py:31: FutureWarning: The module is deprecated in version 0.21 and will be removed in version 0.23 since we've dropped support for Python 2.7. Please rely on the official version of six (https://pypi.org/project/six/).\n",
            "  \"(https://pypi.org/project/six/).\", FutureWarning)\n",
            "/usr/local/lib/python3.6/dist-packages/sklearn/utils/deprecation.py:144: FutureWarning: The sklearn.neighbors.base module is  deprecated in version 0.22 and will be removed in version 0.24. The corresponding classes / functions should instead be imported from sklearn.neighbors. Anything that cannot be imported from sklearn.neighbors is now part of the private API.\n",
            "  warnings.warn(message, FutureWarning)\n",
            "/usr/local/lib/python3.6/dist-packages/sklearn/utils/deprecation.py:87: FutureWarning: Function safe_indexing is deprecated; safe_indexing is deprecated in version 0.22 and will be removed in version 0.24.\n",
            "  warnings.warn(msg, category=FutureWarning)\n",
            "/usr/local/lib/python3.6/dist-packages/sklearn/utils/deprecation.py:87: FutureWarning: Function safe_indexing is deprecated; safe_indexing is deprecated in version 0.22 and will be removed in version 0.24.\n",
            "  warnings.warn(msg, category=FutureWarning)\n",
            "/usr/local/lib/python3.6/dist-packages/sklearn/utils/deprecation.py:87: FutureWarning: Function safe_indexing is deprecated; safe_indexing is deprecated in version 0.22 and will be removed in version 0.24.\n",
            "  warnings.warn(msg, category=FutureWarning)\n",
            "/usr/local/lib/python3.6/dist-packages/sklearn/utils/deprecation.py:87: FutureWarning: Function safe_indexing is deprecated; safe_indexing is deprecated in version 0.22 and will be removed in version 0.24.\n",
            "  warnings.warn(msg, category=FutureWarning)\n"
          ],
          "name": "stderr"
        },
        {
          "output_type": "display_data",
          "data": {
            "image/png": "[encoded data removed]",
            "text/plain": [
              "<Figure size 432x288 with 1 Axes>"
            ]
          },
          "metadata": {
            "tags": []
          }
        }
      ]
    },
    {
      "cell_type": "code",
      "metadata": {
        "id": "4ovR8s05P1hR",
        "colab_type": "code",
        "outputId": "8794185c-d93b-477b-ddea-615f69457462",
        "colab": {
          "base_uri": "https://localhost:8080/",
          "height": 35
        }
      },
      "source": [
        "Counter(y_train_res)"
      ],
      "execution_count": 0,
      "outputs": [
        {
          "output_type": "execute_result",
          "data": {
            "text/plain": [
              "Counter({11: 80183, 13: 80183, 211: 80183, 321: 80183, 2212: 80183})"
            ]
          },
          "metadata": {
            "tags": []
          },
          "execution_count": 14
        }
      ]
    },
    {
      "cell_type": "code",
      "metadata": {
        "id": "-ZoFA60aNQ1A",
        "colab_type": "code",
        "colab": {}
      },
      "source": [
        "import xgboost as xgb\n",
        "xg_cl = xgb.XGBClassifier(n_estimators=50,random_state=123)"
      ],
      "execution_count": 0,
      "outputs": []
    },
    {
      "cell_type": "code",
      "metadata": {
        "id": "snGDqqyhXYnN",
        "colab_type": "code",
        "colab": {}
      },
      "source": [
        "from sklearn.metrics import log_loss\n",
        "#from sklearn.model_selection import cross_val_score\n",
        "#print(\"Cross validation accuracy score is:\",np.mean(cross_val_score(xg_cl,X_train_res,y_train_res,scoring='accuracy',cv=10)))"
      ],
      "execution_count": 0,
      "outputs": []
    },
    {
      "cell_type": "code",
      "metadata": {
        "id": "jpbFYWOQX3zS",
        "colab_type": "code",
        "outputId": "adb6807e-2a98-4cd5-de47-5277e510e83a",
        "colab": {
          "base_uri": "https://localhost:8080/",
          "height": 1000
        }
      },
      "source": [
        "xg_cl.fit(X_train_res,y_train_res,eval_set=[(X_test,y_test)],eval_metric='mlogloss',early_stopping_rounds=2)"
      ],
      "execution_count": 0,
      "outputs": [
        {
          "output_type": "stream",
          "text": [
            "[0]\tvalidation_0-mlogloss:1.60507\n",
            "Will train until validation_0-mlogloss hasn't improved in 2 rounds.\n",
            "[1]\tvalidation_0-mlogloss:1.60121\n",
            "[2]\tvalidation_0-mlogloss:1.59702\n",
            "[3]\tvalidation_0-mlogloss:1.59268\n",
            "[4]\tvalidation_0-mlogloss:1.5874\n",
            "[5]\tvalidation_0-mlogloss:1.58335\n",
            "[6]\tvalidation_0-mlogloss:1.57741\n",
            "[7]\tvalidation_0-mlogloss:1.57269\n",
            "[8]\tvalidation_0-mlogloss:1.56587\n",
            "[9]\tvalidation_0-mlogloss:1.56033\n",
            "[10]\tvalidation_0-mlogloss:1.55676\n",
            "[11]\tvalidation_0-mlogloss:1.55294\n",
            "[12]\tvalidation_0-mlogloss:1.54834\n",
            "[13]\tvalidation_0-mlogloss:1.54335\n",
            "[14]\tvalidation_0-mlogloss:1.54072\n",
            "[15]\tvalidation_0-mlogloss:1.53619\n",
            "[16]\tvalidation_0-mlogloss:1.52932\n",
            "[17]\tvalidation_0-mlogloss:1.52593\n",
            "[18]\tvalidation_0-mlogloss:1.52148\n",
            "[19]\tvalidation_0-mlogloss:1.51668\n",
            "[20]\tvalidation_0-mlogloss:1.50994\n",
            "[21]\tvalidation_0-mlogloss:1.505\n",
            "[22]\tvalidation_0-mlogloss:1.50165\n",
            "[23]\tvalidation_0-mlogloss:1.49733\n",
            "[24]\tvalidation_0-mlogloss:1.49194\n",
            "[25]\tvalidation_0-mlogloss:1.48937\n",
            "[26]\tvalidation_0-mlogloss:1.48523\n",
            "[27]\tvalidation_0-mlogloss:1.48019\n",
            "[28]\tvalidation_0-mlogloss:1.476\n",
            "[29]\tvalidation_0-mlogloss:1.47141\n",
            "[30]\tvalidation_0-mlogloss:1.46975\n",
            "[31]\tvalidation_0-mlogloss:1.46427\n",
            "[32]\tvalidation_0-mlogloss:1.45905\n",
            "[33]\tvalidation_0-mlogloss:1.45484\n",
            "[34]\tvalidation_0-mlogloss:1.453\n",
            "[35]\tvalidation_0-mlogloss:1.44854\n",
            "[36]\tvalidation_0-mlogloss:1.44502\n",
            "[37]\tvalidation_0-mlogloss:1.44211\n",
            "[38]\tvalidation_0-mlogloss:1.43722\n",
            "[39]\tvalidation_0-mlogloss:1.43404\n",
            "[40]\tvalidation_0-mlogloss:1.43026\n",
            "[41]\tvalidation_0-mlogloss:1.42653\n",
            "[42]\tvalidation_0-mlogloss:1.42447\n",
            "[43]\tvalidation_0-mlogloss:1.42008\n",
            "[44]\tvalidation_0-mlogloss:1.41708\n",
            "[45]\tvalidation_0-mlogloss:1.4148\n",
            "[46]\tvalidation_0-mlogloss:1.41128\n",
            "[47]\tvalidation_0-mlogloss:1.40829\n",
            "[48]\tvalidation_0-mlogloss:1.40564\n",
            "[49]\tvalidation_0-mlogloss:1.40343\n"
          ],
          "name": "stdout"
        },
        {
          "output_type": "execute_result",
          "data": {
            "text/plain": [
              "XGBClassifier(base_score=0.5, booster='gbtree', colsample_bylevel=1,\n",
              "              colsample_bynode=1, colsample_bytree=1, gamma=0,\n",
              "              learning_rate=0.1, max_delta_step=0, max_depth=3,\n",
              "              min_child_weight=1, missing=None, n_estimators=50, n_jobs=1,\n",
              "              nthread=None, objective='multi:softprob', random_state=123,\n",
              "              reg_alpha=0, reg_lambda=1, scale_pos_weight=1, seed=None,\n",
              "              silent=None, subsample=1, verbosity=1)"
            ]
          },
          "metadata": {
            "tags": []
          },
          "execution_count": 49
        }
      ]
    },
    {
      "cell_type": "code",
      "metadata": {
        "id": "WKdm-W-4IczL",
        "colab_type": "code",
        "outputId": "496dc95c-e175-4679-acbf-8f75456c0f94",
        "colab": {
          "base_uri": "https://localhost:8080/",
          "height": 35
        }
      },
      "source": [
        "# particle distribution in our test\n",
        "Counter(y_test)"
      ],
      "execution_count": 0,
      "outputs": [
        {
          "output_type": "execute_result",
          "data": {
            "text/plain": [
              "Counter({11: 85, 13: 19, 211: 20041, 321: 3437, 2212: 2431})"
            ]
          },
          "metadata": {
            "tags": []
          },
          "execution_count": 50
        }
      ]
    },
    {
      "cell_type": "code",
      "metadata": {
        "id": "7fkt8_nTLlQL",
        "colab_type": "code",
        "colab": {}
      },
      "source": [
        "preds=xg_cl.predict(X_test)\n",
        "#preds_proba=xg_cl.predict_proba(X_test)"
      ],
      "execution_count": 0,
      "outputs": []
    },
    {
      "cell_type": "code",
      "metadata": {
        "id": "FNTOmx4TOXvz",
        "colab_type": "code",
        "outputId": "0d700330-ae3a-4e1f-bd4d-65e38dd64219",
        "colab": {
          "base_uri": "https://localhost:8080/",
          "height": 54
        }
      },
      "source": [
        "from sklearn.metrics import accuracy_score\n",
        "print(\"Accuracy score: \")\n",
        "print(accuracy_score(preds,y_test))"
      ],
      "execution_count": 0,
      "outputs": [
        {
          "output_type": "stream",
          "text": [
            "Accuracy score: \n",
            "0.3938799830853804\n"
          ],
          "name": "stdout"
        }
      ]
    },
    {
      "cell_type": "code",
      "metadata": {
        "id": "SlwSkjL_Iczc",
        "colab_type": "code",
        "outputId": "ead08f87-3ffd-4bc9-d183-40561db23096",
        "colab": {
          "base_uri": "https://localhost:8080/",
          "height": 35
        }
      },
      "source": [
        "#we have now reduced our test sample ! \n",
        "idx_non_pion=np.where(y_test!=211)[0]\n",
        "Counter(y_test[idx_non_pion])"
      ],
      "execution_count": 0,
      "outputs": [
        {
          "output_type": "execute_result",
          "data": {
            "text/plain": [
              "Counter({11: 85, 13: 19, 321: 3437, 2212: 2431})"
            ]
          },
          "metadata": {
            "tags": []
          },
          "execution_count": 53
        }
      ]
    },
    {
      "cell_type": "code",
      "metadata": {
        "id": "4qvGXXFOIczj",
        "colab_type": "code",
        "outputId": "4b6e6404-70c2-4943-94d6-52faea83a4e1",
        "colab": {
          "base_uri": "https://localhost:8080/",
          "height": 35
        }
      },
      "source": [
        "#let's see how our model behaves then\n",
        "\n",
        "print(accuracy_score(xg_cl.predict(np.array(X_test)[idx_non_pion]),np.array(y_test)[idx_non_pion]))"
      ],
      "execution_count": 0,
      "outputs": [
        {
          "output_type": "stream",
          "text": [
            "0.2721031480241125\n"
          ],
          "name": "stdout"
        }
      ]
    },
    {
      "cell_type": "code",
      "metadata": {
        "id": "zdB9GdhdbaVN",
        "colab_type": "code",
        "outputId": "f8cf8e22-a707-4b2c-bcbe-a1ebc8d5dcfb",
        "colab": {
          "base_uri": "https://localhost:8080/",
          "height": 54
        }
      },
      "source": [
        "pkl_file_test = open('/content/drive/My Drive/Cirta_challenge/test/data_test_file.pkl', 'rb')\n",
        "event_test=pickle.load(pkl_file_test)\n",
        "data_test=np.asarray(event_test)[:,1]\n",
        "print(data_test.shape)\n",
        "test=[np.concatenate((i)) for i in data_test]\n",
        "print(np.array(test).shape)"
      ],
      "execution_count": 0,
      "outputs": [
        {
          "output_type": "stream",
          "text": [
            "(4195,)\n",
            "(4195, 100)\n"
          ],
          "name": "stdout"
        }
      ]
    },
    {
      "cell_type": "code",
      "metadata": {
        "id": "zurdVWZafqQE",
        "colab_type": "code",
        "outputId": "2756638f-90ac-46cb-9c15-9baf7a3e15db",
        "colab": {
          "base_uri": "https://localhost:8080/",
          "height": 35
        }
      },
      "source": [
        "pred_proba=xg_cl.predict_proba(test)\n",
        "print(pred_proba[0])"
      ],
      "execution_count": 0,
      "outputs": [
        {
          "output_type": "stream",
          "text": [
            "[0.16627972 0.21644671 0.27455676 0.20056248 0.14215437]\n"
          ],
          "name": "stdout"
        }
      ]
    },
    {
      "cell_type": "code",
      "metadata": {
        "id": "_6NyVzCYf_vy",
        "colab_type": "code",
        "outputId": "9fc16f51-d921-4e00-9855-8f8f46bfe8c0",
        "colab": {
          "base_uri": "https://localhost:8080/",
          "height": 235
        }
      },
      "source": [
        "df=pd.read_csv('/content/drive/My Drive/Cirta_challenge/test/SampleSubmission2.csv',)\n",
        "print(df.head())\n",
        "df['electron']=pred_proba[:,0]\n",
        "df['muon']=pred_proba[:,1]\n",
        "df['pion']=pred_proba[:,2]\n",
        "df['kaon']=pred_proba[:,3]\n",
        "df['proton']=pred_proba[:,4]\n",
        "print(df.head())"
      ],
      "execution_count": 0,
      "outputs": [
        {
          "output_type": "stream",
          "text": [
            "   image  electron  muon  pion  kaon  proton\n",
            "0      0      0.00  0.13  0.98  0.76    0.55\n",
            "1      1      0.98  0.34  0.78  0.22    0.01\n",
            "2      2       NaN   NaN   NaN   NaN     NaN\n",
            "3      3       NaN   NaN   NaN   NaN     NaN\n",
            "4      4       NaN   NaN   NaN   NaN     NaN\n",
            "   image  electron      muon      pion      kaon    proton\n",
            "0      0  0.166280  0.216447  0.274557  0.200562  0.142154\n",
            "1      1  0.158792  0.084835  0.243129  0.273866  0.239378\n",
            "2      2  0.165235  0.047069  0.282854  0.277539  0.227302\n",
            "3      3  0.098956  0.135426  0.322026  0.228574  0.215018\n",
            "4      4  0.232101  0.089966  0.237905  0.228868  0.211160\n"
          ],
          "name": "stdout"
        }
      ]
    },
    {
      "cell_type": "code",
      "metadata": {
        "id": "cZNkrIWjhhyJ",
        "colab_type": "code",
        "outputId": "2cacad7b-bf6d-453c-9310-7f707af59cf7",
        "colab": {
          "base_uri": "https://localhost:8080/",
          "height": 35
        }
      },
      "source": [
        "print(df.shape)\n",
        "df.to_csv('results.csv',index=False)"
      ],
      "execution_count": 0,
      "outputs": [
        {
          "output_type": "stream",
          "text": [
            "(4195, 6)\n"
          ],
          "name": "stdout"
        }
      ]
    },
    {
      "cell_type": "code",
      "metadata": {
        "id": "o_zjPtbwhqLt",
        "colab_type": "code",
        "colab": {}
      },
      "source": [
        "from google.colab import files\n",
        "files.download('results.csv') "
      ],
      "execution_count": 0,
      "outputs": []
    }
  ]
}