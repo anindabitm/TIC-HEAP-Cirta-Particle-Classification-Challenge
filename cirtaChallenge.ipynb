{
  "nbformat": 4,
  "nbformat_minor": 0,
  "metadata": {
    "kernelspec": {
      "display_name": "Python 3",
      "language": "python",
      "name": "python3"
    },
    "language_info": {
      "codemirror_mode": {
        "name": "ipython",
        "version": 3
      },
      "file_extension": ".py",
      "mimetype": "text/x-python",
      "name": "python",
      "nbconvert_exporter": "python",
      "pygments_lexer": "ipython3",
      "version": "3.7.3"
    },
    "colab": {
      "name": "cirtaChallenge.ipynb",
      "provenance": [],
      "collapsed_sections": [],
      "include_colab_link": true
    }
  },
  "cells": [
    {
      "cell_type": "markdown",
      "metadata": {
        "id": "view-in-github",
        "colab_type": "text"
      },
      "source": [
        "<a href=\"https://colab.research.google.com/github/anindabitm/TIC-HEAP-Cirta-Particle-Classification-Challenge/blob/master/cirtaChallenge.ipynb\" target=\"_parent\"><img src=\"https://colab.research.google.com/assets/colab-badge.svg\" alt=\"Open In Colab\"/></a>"
      ]
    },
    {
      "cell_type": "markdown",
      "metadata": {
        "id": "W4hL2o9lbzjg",
        "colab_type": "text"
      },
      "source": [
        "# Particle type classification"
      ]
    },
    {
      "cell_type": "markdown",
      "metadata": {
        "id": "00tYc_INbzji",
        "colab_type": "text"
      },
      "source": [
        "Welcome! \n",
        "\n",
        "In this challenge we want to build a machine learning model to help us recognize particles. Particles are the tiny constituant of matter generated in a collision between proton bunches at the Large Hadron Collider at CERN. \n",
        "\n",
        "Particles are of course of different types and identifying which particle was produced in an extremly important task for particle physicists. \n",
        "\n",
        "Our dataset comprises 350 independent simulated events, where each event contains labelled images of particle trajectories. \n",
        "\n",
        "A good model assigns the correct particle type to any particle, even the least frequent ones.\n",
        "\n",
        "Read throught this notebook to discover more about the particles."
      ]
    },
    {
      "cell_type": "code",
      "metadata": {
        "id": "fyRxqqCjbzjk",
        "colab_type": "code",
        "colab": {}
      },
      "source": [
        "#Import libraries to load and process data\n",
        "import numpy as np\n",
        "import pickle"
      ],
      "execution_count": 0,
      "outputs": []
    },
    {
      "cell_type": "code",
      "metadata": {
        "id": "u5eg6zq6bzjn",
        "colab_type": "code",
        "colab": {}
      },
      "source": [
        "# replace by your own file path\n",
        "pkl_file = open('event1.pkl', 'rb')\n",
        "event1 = pickle.load(pkl_file)"
      ],
      "execution_count": 0,
      "outputs": []
    },
    {
      "cell_type": "code",
      "metadata": {
        "id": "9fEkdBgUbzjq",
        "colab_type": "code",
        "colab": {}
      },
      "source": [
        "# get the data and target\n",
        "data,target=event1[0],event1[1]\n",
        "target=target.astype('int')"
      ],
      "execution_count": 0,
      "outputs": []
    },
    {
      "cell_type": "code",
      "metadata": {
        "id": "HhiCyiU0bzjs",
        "colab_type": "code",
        "colab": {}
      },
      "source": [
        "# code to particle name dictionary -- more here : \n",
        "dic_types={11: \"electron\", 13 : \"muon\", 211:\"pion\", 321:\"kaon\",2212 : \"proton\"}"
      ],
      "execution_count": 0,
      "outputs": []
    },
    {
      "cell_type": "markdown",
      "metadata": {
        "id": "9HMu7Z3Obzju",
        "colab_type": "text"
      },
      "source": [
        "## Example  of a particle"
      ]
    },
    {
      "cell_type": "code",
      "metadata": {
        "id": "k3ZRDAJ1bzjv",
        "colab_type": "code",
        "outputId": "2ebfea3b-fa38-4b09-d2c4-107cd78d9a04",
        "colab": {}
      },
      "source": [
        "import matplotlib.pyplot as plt\n",
        "plt.title(dic_types[target[0]])\n",
        "plt.imshow(data[0])\n",
        "plt.show()"
      ],
      "execution_count": 0,
      "outputs": [
        {
          "output_type": "display_data",
          "data": {
            "image/png": "[encoded data removed]",
            "text/plain": [
              "<Figure size 432x288 with 1 Axes>"
            ]
          },
          "metadata": {
            "tags": [],
            "needs_background": "light"
          }
        }
      ]
    },
    {
      "cell_type": "markdown",
      "metadata": {
        "id": "PVE8lkAZbzjy",
        "colab_type": "text"
      },
      "source": [
        "## Distribution of particles in an event"
      ]
    },
    {
      "cell_type": "code",
      "metadata": {
        "id": "9rS-I1iTbzjz",
        "colab_type": "code",
        "outputId": "af88cea0-af5b-4a71-b2ee-757779e22ea7",
        "colab": {}
      },
      "source": [
        "\n",
        "from collections import Counter\n",
        "\n",
        "plt.bar(range(len(dic_types)),list(Counter(target).values()))\n",
        "plt.xticks(range(len(dic_types)), [dic_types[i] for i in list(Counter(target).keys())])\n",
        "\n",
        "plt.show()"
      ],
      "execution_count": 0,
      "outputs": [
        {
          "output_type": "display_data",
          "data": {
            "image/png": "[encoded data removed]",
            "text/plain": [
              "<Figure size 432x288 with 1 Axes>"
            ]
          },
          "metadata": {
            "tags": [],
            "needs_background": "light"
          }
        }
      ]
    },
    {
      "cell_type": "markdown",
      "metadata": {
        "id": "TyY3O_2Pbzj4",
        "colab_type": "text"
      },
      "source": [
        "# SVM"
      ]
    },
    {
      "cell_type": "markdown",
      "metadata": {
        "id": "5hwHTMgKbzj5",
        "colab_type": "text"
      },
      "source": [
        "Let us try to predict the particle type with an SVM model from the famous sklearn library. First we split the data into training and test sets."
      ]
    },
    {
      "cell_type": "code",
      "metadata": {
        "id": "qf3o4st6bzj6",
        "colab_type": "code",
        "colab": {}
      },
      "source": [
        "from sklearn.model_selection import train_test_split\n",
        "\n",
        "# we transform the 10x10 images into arrays of 100. You can play with that :) \n",
        "X_train, X_test, y_train, y_test = train_test_split(\n",
        "    [np.concatenate((i)) for i in data], target, test_size=0.20, random_state=42)"
      ],
      "execution_count": 0,
      "outputs": []
    },
    {
      "cell_type": "code",
      "metadata": {
        "id": "f2ojvFRMbzj9",
        "colab_type": "code",
        "outputId": "8f0dc45e-70c3-4109-a3ed-0fc35d05e083",
        "colab": {}
      },
      "source": [
        "#new shape of our data\n",
        "np.array(X_train).shape, np.array(y_train).shape"
      ],
      "execution_count": 0,
      "outputs": [
        {
          "output_type": "execute_result",
          "data": {
            "text/plain": [
              "((2752, 100), (2752,))"
            ]
          },
          "metadata": {
            "tags": []
          },
          "execution_count": 28
        }
      ]
    },
    {
      "cell_type": "code",
      "metadata": {
        "id": "mwD3dq4obzj_",
        "colab_type": "code",
        "outputId": "982daa0e-fd98-4a7b-a161-a09b3e30cf9a",
        "colab": {}
      },
      "source": [
        "# particle distribution in our training\n",
        "Counter(y_train)"
      ],
      "execution_count": 0,
      "outputs": [
        {
          "output_type": "execute_result",
          "data": {
            "text/plain": [
              "Counter({211: 2116, 2212: 248, 321: 379, 11: 8, 13: 1})"
            ]
          },
          "metadata": {
            "tags": []
          },
          "execution_count": 29
        }
      ]
    },
    {
      "cell_type": "code",
      "metadata": {
        "id": "AC47sksobzkC",
        "colab_type": "code",
        "outputId": "451ef359-2c98-4193-8a23-69d170a476a6",
        "colab": {}
      },
      "source": [
        "from sklearn.svm import SVC\n",
        "clf = SVC(gamma='auto')\n",
        "clf.fit(X_train, y_train)"
      ],
      "execution_count": 0,
      "outputs": [
        {
          "output_type": "execute_result",
          "data": {
            "text/plain": [
              "SVC(C=1.0, cache_size=200, class_weight=None, coef0=0.0,\n",
              "    decision_function_shape='ovr', degree=3, gamma='auto', kernel='rbf',\n",
              "    max_iter=-1, probability=False, random_state=None, shrinking=True,\n",
              "    tol=0.001, verbose=False)"
            ]
          },
          "metadata": {
            "tags": []
          },
          "execution_count": 30
        }
      ]
    },
    {
      "cell_type": "code",
      "metadata": {
        "id": "S2ED9AZabzkE",
        "colab_type": "code",
        "outputId": "d7bae90e-7055-44ae-ac80-f60bb5b4a2d9",
        "colab": {}
      },
      "source": [
        "# particle distribution in our test\n",
        "Counter(y_test)"
      ],
      "execution_count": 0,
      "outputs": [
        {
          "output_type": "execute_result",
          "data": {
            "text/plain": [
              "Counter({321: 93, 211: 516, 2212: 77, 11: 2, 13: 1})"
            ]
          },
          "metadata": {
            "tags": []
          },
          "execution_count": 31
        }
      ]
    },
    {
      "cell_type": "code",
      "metadata": {
        "id": "bJ3FIQ9HbzkH",
        "colab_type": "code",
        "outputId": "37915a62-43ac-454c-89c4-aa103520250a",
        "colab": {}
      },
      "source": [
        "clf.score(X_test,y_test)"
      ],
      "execution_count": 0,
      "outputs": [
        {
          "output_type": "execute_result",
          "data": {
            "text/plain": [
              "0.7489114658925979"
            ]
          },
          "metadata": {
            "tags": []
          },
          "execution_count": 32
        }
      ]
    },
    {
      "cell_type": "markdown",
      "metadata": {
        "id": "yHZrpjAtbzkJ",
        "colab_type": "text"
      },
      "source": [
        "The score is already pretty good ! Let's now try to focus on less frequent particle by removing the most redundant one, the \"pion\""
      ]
    },
    {
      "cell_type": "code",
      "metadata": {
        "id": "_ErZrlG5bzkK",
        "colab_type": "code",
        "outputId": "dd8ab5e2-e642-4c44-b82e-aec9c422dfbc",
        "colab": {}
      },
      "source": [
        "#we have now reduced our test sample ! \n",
        "idx_non_pion=np.where(y_test!=211)[0]\n",
        "Counter(y_test[idx_non_pion])"
      ],
      "execution_count": 0,
      "outputs": [
        {
          "output_type": "execute_result",
          "data": {
            "text/plain": [
              "Counter({321: 93, 2212: 77, 11: 2, 13: 1})"
            ]
          },
          "metadata": {
            "tags": []
          },
          "execution_count": 33
        }
      ]
    },
    {
      "cell_type": "code",
      "metadata": {
        "id": "0r6D42QnbzkM",
        "colab_type": "code",
        "outputId": "0f10a9b0-eb2e-4cca-f374-95c799658df0",
        "colab": {}
      },
      "source": [
        "#let's see how our model behaves then\n",
        "\n",
        "clf.score(np.array(X_test)[idx_non_pion],np.array(y_test)[idx_non_pion])"
      ],
      "execution_count": 0,
      "outputs": [
        {
          "output_type": "execute_result",
          "data": {
            "text/plain": [
              "0.0"
            ]
          },
          "metadata": {
            "tags": []
          },
          "execution_count": 34
        }
      ]
    },
    {
      "cell_type": "markdown",
      "metadata": {
        "id": "ZEy0K0FubzkO",
        "colab_type": "text"
      },
      "source": [
        "### oups !! Our model is actually really bad then..."
      ]
    },
    {
      "cell_type": "code",
      "metadata": {
        "id": "rvqQ-ps5bzkP",
        "colab_type": "code",
        "outputId": "c57bfc7b-fa56-467b-dd6c-63f309e65f4c",
        "colab": {}
      },
      "source": [
        "#let's take a closer look at which particle type the model is predicting \n",
        "clf.predict(np.array(X_test)[idx_non_pion])"
      ],
      "execution_count": 0,
      "outputs": [
        {
          "output_type": "execute_result",
          "data": {
            "text/plain": [
              "array([211, 211, 211, 211, 211, 211, 211, 211, 211, 211, 211, 211, 211,\n",
              "       211, 211, 211, 211, 211, 211, 211, 211, 211, 211, 211, 211, 211,\n",
              "       211, 211, 211, 211, 211, 211, 211, 211, 211, 211, 211, 211, 211,\n",
              "       211, 211, 211, 211, 211, 211, 211, 211, 211, 211, 211, 211, 211,\n",
              "       211, 211, 211, 211, 211, 211, 211, 211, 211, 211, 211, 211, 211,\n",
              "       211, 211, 211, 211, 211, 211, 211, 211, 211, 211, 211, 211, 211,\n",
              "       211, 211, 211, 211, 211, 211, 211, 211, 211, 211, 211, 211, 211,\n",
              "       211, 211, 211, 211, 211, 211, 211, 211, 211, 211, 211, 211, 211,\n",
              "       211, 211, 211, 211, 211, 211, 211, 211, 211, 211, 211, 211, 211,\n",
              "       211, 211, 211, 211, 211, 211, 211, 211, 211, 211, 211, 211, 211,\n",
              "       211, 211, 211, 211, 211, 211, 211, 211, 211, 211, 211, 211, 211,\n",
              "       211, 211, 211, 211, 211, 211, 211, 211, 211, 211, 211, 211, 211,\n",
              "       211, 211, 211, 211, 211, 211, 211, 211, 211, 211, 211, 211, 211,\n",
              "       211, 211, 211, 211])"
            ]
          },
          "metadata": {
            "tags": []
          },
          "execution_count": 35
        }
      ]
    },
    {
      "cell_type": "markdown",
      "metadata": {
        "id": "0bvZQRVibzkR",
        "colab_type": "text"
      },
      "source": [
        "## It seems our model is overfitting by predicting only pions! Can you help improve it?"
      ]
    }
  ]
}